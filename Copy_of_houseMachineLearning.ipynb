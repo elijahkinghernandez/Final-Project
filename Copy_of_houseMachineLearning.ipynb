{
  "nbformat": 4,
  "nbformat_minor": 0,
  "metadata": {
    "colab": {
      "provenance": [],
      "authorship_tag": "ABX9TyN+22gkmmU9qyMgw+Gi+yxT",
      "include_colab_link": true
    },
    "kernelspec": {
      "name": "python3",
      "display_name": "Python 3"
    },
    "language_info": {
      "name": "python"
    }
  },
  "cells": [
    {
      "cell_type": "markdown",
      "metadata": {
        "id": "view-in-github",
        "colab_type": "text"
      },
      "source": [
        "<a href=\"https://colab.research.google.com/github/elijahkinghernandez/Final-Project/blob/main/Copy_of_houseMachineLearning.ipynb\" target=\"_parent\"><img src=\"https://colab.research.google.com/assets/colab-badge.svg\" alt=\"Open In Colab\"/></a>"
      ]
    },
    {
      "cell_type": "markdown",
      "source": [
        "DATA COLLECTION AND CLEANING"
      ],
      "metadata": {
        "id": "QCUSAb9aDsBj"
      }
    },
    {
      "cell_type": "code",
      "execution_count": 1,
      "metadata": {
        "id": "SrcaDrUtPnZv"
      },
      "outputs": [],
      "source": [
        "import pandas as pd"
      ]
    },
    {
      "cell_type": "code",
      "source": [
        "# Read in csv file with member names\n",
        "H117_members = pd.read_csv(\"/content/H117_members.csv\")\n",
        "\n",
        "# Create a datframe with only LA county representatives\n",
        "\n",
        "desired = 23, 25, 26, 27, 28, 29, 30, 32, 33, 34, 35, 37, 38, 39, 40, 43, 44, 47, 48\n",
        "la_list = []\n",
        "\n",
        "for i in desired:\n",
        "  la = H117_members[H117_members['district_code'] == i][H117_members['state_abbrev'] == 'CA']\n",
        "  la_list.append(la) \n",
        "la_reps = pd.concat(la_list)\n",
        "\n",
        "# Filter for desired columns\n",
        "la_reps = la_reps[['icpsr', 'bioname', 'district_code', 'party_code', 'born', 'nominate_dim1']]\n",
        "la_reps = la_reps.rename(columns={'nominate_dim1': 'economic lib-con'})"
      ],
      "metadata": {
        "colab": {
          "base_uri": "https://localhost:8080/"
        },
        "id": "uDc9aXXRgLoY",
        "outputId": "c9f9c0c0-08e7-44e0-c5fa-81798fa3cf09"
      },
      "execution_count": 2,
      "outputs": [
        {
          "output_type": "stream",
          "name": "stderr",
          "text": [
            "<ipython-input-2-0c9c73bc0ee1>:10: UserWarning: Boolean Series key will be reindexed to match DataFrame index.\n",
            "  la = H117_members[H117_members['district_code'] == i][H117_members['state_abbrev'] == 'CA']\n"
          ]
        }
      ]
    },
    {
      "cell_type": "code",
      "source": [
        "# Read in csv file with rollcalls-- items being put up to a vote\n",
        "H117_rollcalls = pd.read_csv(\"/content/H117_rollcalls.csv\")\n",
        "\n",
        "# Filter for desired columns\n",
        "H117_rollcalls = H117_rollcalls[['rollnumber', 'vote_desc', 'vote_question', 'vote_result', 'date', 'yea_count', 'nay_count']]"
      ],
      "metadata": {
        "id": "lQkGro27g9Ft"
      },
      "execution_count": 3,
      "outputs": []
    },
    {
      "cell_type": "code",
      "source": [
        "# Read in csv file indicating how each congressperson voted on each rollcall\n",
        "H117_votes = pd.read_csv(\"/content/H117_votes.csv\")\n",
        "\n",
        "# Filter for desired columns\n",
        "H117_votes = H117_votes[['rollnumber', 'icpsr', 'cast_code', 'prob']]"
      ],
      "metadata": {
        "id": "CvDEY3bchD0K"
      },
      "execution_count": 4,
      "outputs": []
    },
    {
      "cell_type": "code",
      "source": [
        "# Read in csv file indicating la_reps demographics; had to make this myself\n",
        "la_reps_demographics = pd.read_csv('/content/H117 - demographics - 1.csv')\n",
        "\n",
        "# Filter for desired columns\n",
        "la_reps_demographics = la_reps_demographics[['icpsr', 'gender', 'race', 'immigrant']]"
      ],
      "metadata": {
        "id": "Mnu_x-EI7HO1"
      },
      "execution_count": 5,
      "outputs": []
    },
    {
      "cell_type": "code",
      "source": [
        "# Merge h117_votes with la_reps on each congressperson's unique id\n",
        "votes_la_reps = H117_votes.merge(la_reps, on=[\"icpsr\"], how=\"inner\")"
      ],
      "metadata": {
        "id": "tH7ttXetRvcw"
      },
      "execution_count": 6,
      "outputs": []
    },
    {
      "cell_type": "code",
      "source": [
        "# All three csv files now merged \n",
        "la_votesMembersDescriptions = votes_la_reps.merge(H117_rollcalls, on=[\"rollnumber\"], how=\"inner\")\n",
        "\n",
        "# Make vote reult a binary-- passed/failed --> 1/0\n",
        "la_votesMembersDescriptions = la_votesMembersDescriptions[la_votesMembersDescriptions['vote_result'] != 'Pelosi']\n",
        "la_votesMembersDescriptions = la_votesMembersDescriptions[la_votesMembersDescriptions['vote_result'] != 'Agreed to']\n",
        "la_votesMembersDescriptions['vote_result'] = la_votesMembersDescriptions['vote_result'].replace('Passed', 1).replace('Failed', 0)"
      ],
      "metadata": {
        "id": "IL3WjRlDuGQ0"
      },
      "execution_count": 7,
      "outputs": []
    },
    {
      "cell_type": "code",
      "source": [
        "# Final dataframe to be used in machine learning model\n",
        "df = la_votesMembersDescriptions.merge(la_reps_demographics, on=[\"icpsr\"], how=\"outer\")"
      ],
      "metadata": {
        "id": "j4xp4szLxFAW"
      },
      "execution_count": 8,
      "outputs": []
    },
    {
      "cell_type": "code",
      "source": [
        "# Filter for only yea or nay votes and cast as 0/1\n",
        "df = df[df['cast_code'] != 7]\n",
        "df = df[df['cast_code'] != 9]\n",
        "df['cast_code'] = df['cast_code'].replace(6, 'nay')\n",
        "df['cast_code'] = df['cast_code'].replace(1, 'yea')\n",
        "df['cast_code'].value_counts()\n",
        "\n",
        "# Cast female/male as 0/1\n",
        "df['gender'] = df['gender'].replace('female', 0)\n",
        "df['gender'] = df['gender'].replace('male', 1)\n",
        "\n",
        "# Cast immigrant/not immigrant as 1/0\n",
        "df['immigrant'] = df['immigrant'].replace('no', 0)\n",
        "df['immigrant'] = df['immigrant'].replace('yes', 1)\n",
        "\n",
        "# Turn born column into age column when congressperson was elected \n",
        "df['born'] = 2020 - df['born']\n",
        "df = df.rename(columns={'born': 'age elected'})"
      ],
      "metadata": {
        "id": "_2KSma1I-7zp"
      },
      "execution_count": 9,
      "outputs": []
    },
    {
      "cell_type": "code",
      "source": [
        "df_ml = df[df['vote_desc'].notna()]"
      ],
      "metadata": {
        "id": "eiS36o1C7qLc"
      },
      "execution_count": 10,
      "outputs": []
    },
    {
      "cell_type": "code",
      "source": [
        "df_ml"
      ],
      "metadata": {
        "colab": {
          "base_uri": "https://localhost:8080/",
          "height": 1000
        },
        "id": "Kw2CosrN00U1",
        "outputId": "10b6441f-ed2b-4eb3-eccf-283ca26f52c5"
      },
      "execution_count": 11,
      "outputs": [
        {
          "output_type": "execute_result",
          "data": {
            "text/plain": [
              "       rollnumber    icpsr cast_code   prob                   bioname  \\\n",
              "1               3  20104.0       yea  100.0              SCHIFF, Adam   \n",
              "2               4  20104.0       yea  100.0              SCHIFF, Adam   \n",
              "3               5  20104.0       yea  100.0              SCHIFF, Adam   \n",
              "4               6  20104.0       nay  100.0              SCHIFF, Adam   \n",
              "5               7  20104.0       yea  100.0              SCHIFF, Adam   \n",
              "...           ...      ...       ...    ...                       ...   \n",
              "16511         991  29903.0       yea  100.0  NAPOLITANO, Grace Flores   \n",
              "16512         992  29903.0       yea  100.0  NAPOLITANO, Grace Flores   \n",
              "16513         993  29903.0       yea   99.8  NAPOLITANO, Grace Flores   \n",
              "16514         994  29903.0       yea  100.0  NAPOLITANO, Grace Flores   \n",
              "16516         996  29903.0       yea   99.9  NAPOLITANO, Grace Flores   \n",
              "\n",
              "       district_code  party_code  age elected  economic lib-con  \\\n",
              "1                 28         100           60            -0.350   \n",
              "2                 28         100           60            -0.350   \n",
              "3                 28         100           60            -0.350   \n",
              "4                 28         100           60            -0.350   \n",
              "5                 28         100           60            -0.350   \n",
              "...              ...         ...          ...               ...   \n",
              "16511             32         100           84            -0.448   \n",
              "16512             32         100           84            -0.448   \n",
              "16513             32         100           84            -0.448   \n",
              "16514             32         100           84            -0.448   \n",
              "16516             32         100           84            -0.448   \n",
              "\n",
              "                                               vote_desc  \\\n",
              "1      Adopting the Rules of the House of Representat...   \n",
              "2      Adopting the Rules of the House of Representat...   \n",
              "3      Adopting the Rules of the House of Representat...   \n",
              "4      Adopting the Rules of the House of Representat...   \n",
              "5      Adopting the Rules of the House of Representat...   \n",
              "...                                                  ...   \n",
              "16511  Native American Langauge Resource Center Act o...   \n",
              "16512  Durbin Feeling Native American Languages Act o...   \n",
              "16513               Student Veteran Emergency Relief Act   \n",
              "16514  Providing for consideration of the Senate amen...   \n",
              "16516  To amend section 1115 of title 31, United Stat...   \n",
              "\n",
              "                                           vote_question  vote_result  \\\n",
              "1      On Motion to Table the Motion to Postpone to a...            1   \n",
              "2                                  Table Motion to Refer            1   \n",
              "3                      On Ordering the Previous Question            1   \n",
              "4                  On Motion to Commit with Instructions            0   \n",
              "5                          On Agreeing to the Resolution            1   \n",
              "...                                                  ...          ...   \n",
              "16511            On Motion to Suspend the Rules and Pass            1   \n",
              "16512            On Motion to Suspend the Rules and Pass            1   \n",
              "16513  On Motion to Suspend the Rules and Concur in t...            1   \n",
              "16514                      On Agreeing to the Resolution            1   \n",
              "16516  On Motion to Concur in the Senate Adt to the H...            1   \n",
              "\n",
              "             date  yea_count  nay_count  gender      race  immigrant  \n",
              "1      2021-01-04        214        204       1     white          0  \n",
              "2      2021-01-04        214        196       1     white          0  \n",
              "3      2021-01-04        217        204       1     white          0  \n",
              "4      2021-01-04        203        217       1     white          0  \n",
              "5      2021-01-04        217        206       1     white          0  \n",
              "...           ...        ...        ...     ...       ...        ...  \n",
              "16511  2022-12-22        342         71       0  hispanic          0  \n",
              "16512  2022-12-22        337         79       0  hispanic          0  \n",
              "16513  2022-12-22        380         35       0  hispanic          0  \n",
              "16514  2022-12-23        215        206       0  hispanic          0  \n",
              "16516  2022-12-23        225        201       0  hispanic          0  \n",
              "\n",
              "[14319 rows x 18 columns]"
            ],
            "text/html": [
              "\n",
              "  <div id=\"df-54d5064a-fabc-4e03-bdc3-717d0d2a6a86\">\n",
              "    <div class=\"colab-df-container\">\n",
              "      <div>\n",
              "<style scoped>\n",
              "    .dataframe tbody tr th:only-of-type {\n",
              "        vertical-align: middle;\n",
              "    }\n",
              "\n",
              "    .dataframe tbody tr th {\n",
              "        vertical-align: top;\n",
              "    }\n",
              "\n",
              "    .dataframe thead th {\n",
              "        text-align: right;\n",
              "    }\n",
              "</style>\n",
              "<table border=\"1\" class=\"dataframe\">\n",
              "  <thead>\n",
              "    <tr style=\"text-align: right;\">\n",
              "      <th></th>\n",
              "      <th>rollnumber</th>\n",
              "      <th>icpsr</th>\n",
              "      <th>cast_code</th>\n",
              "      <th>prob</th>\n",
              "      <th>bioname</th>\n",
              "      <th>district_code</th>\n",
              "      <th>party_code</th>\n",
              "      <th>age elected</th>\n",
              "      <th>economic lib-con</th>\n",
              "      <th>vote_desc</th>\n",
              "      <th>vote_question</th>\n",
              "      <th>vote_result</th>\n",
              "      <th>date</th>\n",
              "      <th>yea_count</th>\n",
              "      <th>nay_count</th>\n",
              "      <th>gender</th>\n",
              "      <th>race</th>\n",
              "      <th>immigrant</th>\n",
              "    </tr>\n",
              "  </thead>\n",
              "  <tbody>\n",
              "    <tr>\n",
              "      <th>1</th>\n",
              "      <td>3</td>\n",
              "      <td>20104.0</td>\n",
              "      <td>yea</td>\n",
              "      <td>100.0</td>\n",
              "      <td>SCHIFF, Adam</td>\n",
              "      <td>28</td>\n",
              "      <td>100</td>\n",
              "      <td>60</td>\n",
              "      <td>-0.350</td>\n",
              "      <td>Adopting the Rules of the House of Representat...</td>\n",
              "      <td>On Motion to Table the Motion to Postpone to a...</td>\n",
              "      <td>1</td>\n",
              "      <td>2021-01-04</td>\n",
              "      <td>214</td>\n",
              "      <td>204</td>\n",
              "      <td>1</td>\n",
              "      <td>white</td>\n",
              "      <td>0</td>\n",
              "    </tr>\n",
              "    <tr>\n",
              "      <th>2</th>\n",
              "      <td>4</td>\n",
              "      <td>20104.0</td>\n",
              "      <td>yea</td>\n",
              "      <td>100.0</td>\n",
              "      <td>SCHIFF, Adam</td>\n",
              "      <td>28</td>\n",
              "      <td>100</td>\n",
              "      <td>60</td>\n",
              "      <td>-0.350</td>\n",
              "      <td>Adopting the Rules of the House of Representat...</td>\n",
              "      <td>Table Motion to Refer</td>\n",
              "      <td>1</td>\n",
              "      <td>2021-01-04</td>\n",
              "      <td>214</td>\n",
              "      <td>196</td>\n",
              "      <td>1</td>\n",
              "      <td>white</td>\n",
              "      <td>0</td>\n",
              "    </tr>\n",
              "    <tr>\n",
              "      <th>3</th>\n",
              "      <td>5</td>\n",
              "      <td>20104.0</td>\n",
              "      <td>yea</td>\n",
              "      <td>100.0</td>\n",
              "      <td>SCHIFF, Adam</td>\n",
              "      <td>28</td>\n",
              "      <td>100</td>\n",
              "      <td>60</td>\n",
              "      <td>-0.350</td>\n",
              "      <td>Adopting the Rules of the House of Representat...</td>\n",
              "      <td>On Ordering the Previous Question</td>\n",
              "      <td>1</td>\n",
              "      <td>2021-01-04</td>\n",
              "      <td>217</td>\n",
              "      <td>204</td>\n",
              "      <td>1</td>\n",
              "      <td>white</td>\n",
              "      <td>0</td>\n",
              "    </tr>\n",
              "    <tr>\n",
              "      <th>4</th>\n",
              "      <td>6</td>\n",
              "      <td>20104.0</td>\n",
              "      <td>nay</td>\n",
              "      <td>100.0</td>\n",
              "      <td>SCHIFF, Adam</td>\n",
              "      <td>28</td>\n",
              "      <td>100</td>\n",
              "      <td>60</td>\n",
              "      <td>-0.350</td>\n",
              "      <td>Adopting the Rules of the House of Representat...</td>\n",
              "      <td>On Motion to Commit with Instructions</td>\n",
              "      <td>0</td>\n",
              "      <td>2021-01-04</td>\n",
              "      <td>203</td>\n",
              "      <td>217</td>\n",
              "      <td>1</td>\n",
              "      <td>white</td>\n",
              "      <td>0</td>\n",
              "    </tr>\n",
              "    <tr>\n",
              "      <th>5</th>\n",
              "      <td>7</td>\n",
              "      <td>20104.0</td>\n",
              "      <td>yea</td>\n",
              "      <td>100.0</td>\n",
              "      <td>SCHIFF, Adam</td>\n",
              "      <td>28</td>\n",
              "      <td>100</td>\n",
              "      <td>60</td>\n",
              "      <td>-0.350</td>\n",
              "      <td>Adopting the Rules of the House of Representat...</td>\n",
              "      <td>On Agreeing to the Resolution</td>\n",
              "      <td>1</td>\n",
              "      <td>2021-01-04</td>\n",
              "      <td>217</td>\n",
              "      <td>206</td>\n",
              "      <td>1</td>\n",
              "      <td>white</td>\n",
              "      <td>0</td>\n",
              "    </tr>\n",
              "    <tr>\n",
              "      <th>...</th>\n",
              "      <td>...</td>\n",
              "      <td>...</td>\n",
              "      <td>...</td>\n",
              "      <td>...</td>\n",
              "      <td>...</td>\n",
              "      <td>...</td>\n",
              "      <td>...</td>\n",
              "      <td>...</td>\n",
              "      <td>...</td>\n",
              "      <td>...</td>\n",
              "      <td>...</td>\n",
              "      <td>...</td>\n",
              "      <td>...</td>\n",
              "      <td>...</td>\n",
              "      <td>...</td>\n",
              "      <td>...</td>\n",
              "      <td>...</td>\n",
              "      <td>...</td>\n",
              "    </tr>\n",
              "    <tr>\n",
              "      <th>16511</th>\n",
              "      <td>991</td>\n",
              "      <td>29903.0</td>\n",
              "      <td>yea</td>\n",
              "      <td>100.0</td>\n",
              "      <td>NAPOLITANO, Grace Flores</td>\n",
              "      <td>32</td>\n",
              "      <td>100</td>\n",
              "      <td>84</td>\n",
              "      <td>-0.448</td>\n",
              "      <td>Native American Langauge Resource Center Act o...</td>\n",
              "      <td>On Motion to Suspend the Rules and Pass</td>\n",
              "      <td>1</td>\n",
              "      <td>2022-12-22</td>\n",
              "      <td>342</td>\n",
              "      <td>71</td>\n",
              "      <td>0</td>\n",
              "      <td>hispanic</td>\n",
              "      <td>0</td>\n",
              "    </tr>\n",
              "    <tr>\n",
              "      <th>16512</th>\n",
              "      <td>992</td>\n",
              "      <td>29903.0</td>\n",
              "      <td>yea</td>\n",
              "      <td>100.0</td>\n",
              "      <td>NAPOLITANO, Grace Flores</td>\n",
              "      <td>32</td>\n",
              "      <td>100</td>\n",
              "      <td>84</td>\n",
              "      <td>-0.448</td>\n",
              "      <td>Durbin Feeling Native American Languages Act o...</td>\n",
              "      <td>On Motion to Suspend the Rules and Pass</td>\n",
              "      <td>1</td>\n",
              "      <td>2022-12-22</td>\n",
              "      <td>337</td>\n",
              "      <td>79</td>\n",
              "      <td>0</td>\n",
              "      <td>hispanic</td>\n",
              "      <td>0</td>\n",
              "    </tr>\n",
              "    <tr>\n",
              "      <th>16513</th>\n",
              "      <td>993</td>\n",
              "      <td>29903.0</td>\n",
              "      <td>yea</td>\n",
              "      <td>99.8</td>\n",
              "      <td>NAPOLITANO, Grace Flores</td>\n",
              "      <td>32</td>\n",
              "      <td>100</td>\n",
              "      <td>84</td>\n",
              "      <td>-0.448</td>\n",
              "      <td>Student Veteran Emergency Relief Act</td>\n",
              "      <td>On Motion to Suspend the Rules and Concur in t...</td>\n",
              "      <td>1</td>\n",
              "      <td>2022-12-22</td>\n",
              "      <td>380</td>\n",
              "      <td>35</td>\n",
              "      <td>0</td>\n",
              "      <td>hispanic</td>\n",
              "      <td>0</td>\n",
              "    </tr>\n",
              "    <tr>\n",
              "      <th>16514</th>\n",
              "      <td>994</td>\n",
              "      <td>29903.0</td>\n",
              "      <td>yea</td>\n",
              "      <td>100.0</td>\n",
              "      <td>NAPOLITANO, Grace Flores</td>\n",
              "      <td>32</td>\n",
              "      <td>100</td>\n",
              "      <td>84</td>\n",
              "      <td>-0.448</td>\n",
              "      <td>Providing for consideration of the Senate amen...</td>\n",
              "      <td>On Agreeing to the Resolution</td>\n",
              "      <td>1</td>\n",
              "      <td>2022-12-23</td>\n",
              "      <td>215</td>\n",
              "      <td>206</td>\n",
              "      <td>0</td>\n",
              "      <td>hispanic</td>\n",
              "      <td>0</td>\n",
              "    </tr>\n",
              "    <tr>\n",
              "      <th>16516</th>\n",
              "      <td>996</td>\n",
              "      <td>29903.0</td>\n",
              "      <td>yea</td>\n",
              "      <td>99.9</td>\n",
              "      <td>NAPOLITANO, Grace Flores</td>\n",
              "      <td>32</td>\n",
              "      <td>100</td>\n",
              "      <td>84</td>\n",
              "      <td>-0.448</td>\n",
              "      <td>To amend section 1115 of title 31, United Stat...</td>\n",
              "      <td>On Motion to Concur in the Senate Adt to the H...</td>\n",
              "      <td>1</td>\n",
              "      <td>2022-12-23</td>\n",
              "      <td>225</td>\n",
              "      <td>201</td>\n",
              "      <td>0</td>\n",
              "      <td>hispanic</td>\n",
              "      <td>0</td>\n",
              "    </tr>\n",
              "  </tbody>\n",
              "</table>\n",
              "<p>14319 rows × 18 columns</p>\n",
              "</div>\n",
              "      <button class=\"colab-df-convert\" onclick=\"convertToInteractive('df-54d5064a-fabc-4e03-bdc3-717d0d2a6a86')\"\n",
              "              title=\"Convert this dataframe to an interactive table.\"\n",
              "              style=\"display:none;\">\n",
              "        \n",
              "  <svg xmlns=\"http://www.w3.org/2000/svg\" height=\"24px\"viewBox=\"0 0 24 24\"\n",
              "       width=\"24px\">\n",
              "    <path d=\"M0 0h24v24H0V0z\" fill=\"none\"/>\n",
              "    <path d=\"M18.56 5.44l.94 2.06.94-2.06 2.06-.94-2.06-.94-.94-2.06-.94 2.06-2.06.94zm-11 1L8.5 8.5l.94-2.06 2.06-.94-2.06-.94L8.5 2.5l-.94 2.06-2.06.94zm10 10l.94 2.06.94-2.06 2.06-.94-2.06-.94-.94-2.06-.94 2.06-2.06.94z\"/><path d=\"M17.41 7.96l-1.37-1.37c-.4-.4-.92-.59-1.43-.59-.52 0-1.04.2-1.43.59L10.3 9.45l-7.72 7.72c-.78.78-.78 2.05 0 2.83L4 21.41c.39.39.9.59 1.41.59.51 0 1.02-.2 1.41-.59l7.78-7.78 2.81-2.81c.8-.78.8-2.07 0-2.86zM5.41 20L4 18.59l7.72-7.72 1.47 1.35L5.41 20z\"/>\n",
              "  </svg>\n",
              "      </button>\n",
              "      \n",
              "  <style>\n",
              "    .colab-df-container {\n",
              "      display:flex;\n",
              "      flex-wrap:wrap;\n",
              "      gap: 12px;\n",
              "    }\n",
              "\n",
              "    .colab-df-convert {\n",
              "      background-color: #E8F0FE;\n",
              "      border: none;\n",
              "      border-radius: 50%;\n",
              "      cursor: pointer;\n",
              "      display: none;\n",
              "      fill: #1967D2;\n",
              "      height: 32px;\n",
              "      padding: 0 0 0 0;\n",
              "      width: 32px;\n",
              "    }\n",
              "\n",
              "    .colab-df-convert:hover {\n",
              "      background-color: #E2EBFA;\n",
              "      box-shadow: 0px 1px 2px rgba(60, 64, 67, 0.3), 0px 1px 3px 1px rgba(60, 64, 67, 0.15);\n",
              "      fill: #174EA6;\n",
              "    }\n",
              "\n",
              "    [theme=dark] .colab-df-convert {\n",
              "      background-color: #3B4455;\n",
              "      fill: #D2E3FC;\n",
              "    }\n",
              "\n",
              "    [theme=dark] .colab-df-convert:hover {\n",
              "      background-color: #434B5C;\n",
              "      box-shadow: 0px 1px 3px 1px rgba(0, 0, 0, 0.15);\n",
              "      filter: drop-shadow(0px 1px 2px rgba(0, 0, 0, 0.3));\n",
              "      fill: #FFFFFF;\n",
              "    }\n",
              "  </style>\n",
              "\n",
              "      <script>\n",
              "        const buttonEl =\n",
              "          document.querySelector('#df-54d5064a-fabc-4e03-bdc3-717d0d2a6a86 button.colab-df-convert');\n",
              "        buttonEl.style.display =\n",
              "          google.colab.kernel.accessAllowed ? 'block' : 'none';\n",
              "\n",
              "        async function convertToInteractive(key) {\n",
              "          const element = document.querySelector('#df-54d5064a-fabc-4e03-bdc3-717d0d2a6a86');\n",
              "          const dataTable =\n",
              "            await google.colab.kernel.invokeFunction('convertToInteractive',\n",
              "                                                     [key], {});\n",
              "          if (!dataTable) return;\n",
              "\n",
              "          const docLinkHtml = 'Like what you see? Visit the ' +\n",
              "            '<a target=\"_blank\" href=https://colab.research.google.com/notebooks/data_table.ipynb>data table notebook</a>'\n",
              "            + ' to learn more about interactive tables.';\n",
              "          element.innerHTML = '';\n",
              "          dataTable['output_type'] = 'display_data';\n",
              "          await google.colab.output.renderOutput(dataTable, element);\n",
              "          const docLink = document.createElement('div');\n",
              "          docLink.innerHTML = docLinkHtml;\n",
              "          element.appendChild(docLink);\n",
              "        }\n",
              "      </script>\n",
              "    </div>\n",
              "  </div>\n",
              "  "
            ]
          },
          "metadata": {},
          "execution_count": 11
        }
      ]
    },
    {
      "cell_type": "markdown",
      "source": [
        "DATA EXPLORATION / VISUALIZATIONS"
      ],
      "metadata": {
        "id": "g64mJ3mTDxAB"
      }
    },
    {
      "cell_type": "code",
      "source": [
        "# PARTY DISTRIBUTION VISUALIZATION\n",
        "\n",
        "one = la_reps['party_code'].value_counts()\n",
        "one = pd.DataFrame(one)\n",
        "one = one.reset_index()\n",
        "one = one.rename(columns={'index': 'party', 'party_code': '# of reps'})\n",
        "one = one.replace(100, 'D')\n",
        "one = one.replace(200, 'R')\n",
        "one.plot.bar(x='party', y='# of reps', color=['blue', 'red'], legend=False, title='PARTY DISTRIBUTION')"
      ],
      "metadata": {
        "colab": {
          "base_uri": "https://localhost:8080/",
          "height": 311
        },
        "id": "tXqc8RD2VQkU",
        "outputId": "eb63b8ba-5f0d-420f-e345-11a5e78d7a27"
      },
      "execution_count": 12,
      "outputs": [
        {
          "output_type": "execute_result",
          "data": {
            "text/plain": [
              "<Axes: title={'center': 'PARTY DISTRIBUTION'}, xlabel='party'>"
            ]
          },
          "metadata": {},
          "execution_count": 12
        },
        {
          "output_type": "display_data",
          "data": {
            "text/plain": [
              "<Figure size 432x288 with 1 Axes>"
            ],
            "image/png": "[encoded data removed]"
          },
          "metadata": {
            "needs_background": "light"
          }
        }
      ]
    },
    {
      "cell_type": "code",
      "source": [
        "# YEA/NAY VOTE DISTRIBUTIONS\n",
        "\n",
        "yn_count = ((pd.DataFrame(df_ml['cast_code'].value_counts(normalize=True))).reset_index()).rename(columns={'index': 'cast', 'cast_code': 'count'})\n",
        "yn_count.plot.bar(x='cast', y='count', color=['darkgreen', 'darkred'], title='YEA/NAY VOTE DISTRIBUTIONS', legend=False)\n"
      ],
      "metadata": {
        "colab": {
          "base_uri": "https://localhost:8080/",
          "height": 322
        },
        "id": "4qip2i60hvet",
        "outputId": "026a0ec3-1a68-4ca0-e1f5-7b19fc71986e"
      },
      "execution_count": 13,
      "outputs": [
        {
          "output_type": "execute_result",
          "data": {
            "text/plain": [
              "<Axes: title={'center': 'YEA/NAY VOTE DISTRIBUTIONS'}, xlabel='cast'>"
            ]
          },
          "metadata": {},
          "execution_count": 13
        },
        {
          "output_type": "display_data",
          "data": {
            "text/plain": [
              "<Figure size 432x288 with 1 Axes>"
            ],
            "image/png": "[encoded data removed]"
          },
          "metadata": {
            "needs_background": "light"
          }
        }
      ]
    },
    {
      "cell_type": "code",
      "source": [
        "# YEA/NAY VOTE DISTRIBUTIONS BY PARTY\n",
        "\n",
        "dems = df_ml[df_ml['party_code'] == 100]\n",
        "dems_count = ((pd.DataFrame(dems['cast_code'].value_counts())).reset_index()).rename(columns={'index': 'cast', 'cast_code': 'count'})\n",
        "dems_count['total'] = dems_count['count'].sum()\n",
        "dems_count['distribution'] = dems_count['count'] / dems_count['total']\n",
        "dems_count = dems_count[['cast', 'distribution']]\n",
        "\n",
        "reps = df_ml[df_ml['party_code'] == 200]\n",
        "rep_count = ((pd.DataFrame(reps['cast_code'].value_counts())).reset_index()).rename(columns={'index': 'cast', 'cast_code': 'count'})\n",
        "rep_count['total'] = rep_count['count'].sum()\n",
        "rep_count['distribution'] = rep_count['count'] / rep_count['total']\n",
        "rep_count = rep_count[['cast', 'distribution']]\n",
        "\n",
        "dem_rep_yn_count = rep_count.merge(dems_count, on=['cast'], how=\"inner\", suffixes=('_rep', '_dem'))\n",
        "dem_rep_yn_count.plot.bar(x='cast', title='YEA/NAY VOTE DISTRIBUTIONS BY PARTY', color=['maroon', 'darkblue'])"
      ],
      "metadata": {
        "colab": {
          "base_uri": "https://localhost:8080/",
          "height": 322
        },
        "id": "deLdzWQ0E1dF",
        "outputId": "e81667af-8944-4351-9150-2e8ac1abeb96"
      },
      "execution_count": 14,
      "outputs": [
        {
          "output_type": "execute_result",
          "data": {
            "text/plain": [
              "<Axes: title={'center': 'YEA/NAY VOTE DISTRIBUTIONS BY PARTY'}, xlabel='cast'>"
            ]
          },
          "metadata": {},
          "execution_count": 14
        },
        {
          "output_type": "display_data",
          "data": {
            "text/plain": [
              "<Figure size 432x288 with 1 Axes>"
            ],
            "image/png": "[encoded data removed]"
          },
          "metadata": {
            "needs_background": "light"
          }
        }
      ]
    },
    {
      "cell_type": "code",
      "source": [
        "# NEEDED TO CLEAN RACE COLUMN-- hispanic was separated because of a trailing space \n",
        "df_ml['race'] = df_ml['race'].replace('hispanic ', 'hispanic')"
      ],
      "metadata": {
        "colab": {
          "base_uri": "https://localhost:8080/"
        },
        "id": "hjUOhNPr_NKU",
        "outputId": "023be2aa-cc00-4471-a0ae-c014fc4c4c46"
      },
      "execution_count": 15,
      "outputs": [
        {
          "output_type": "stream",
          "name": "stderr",
          "text": [
            "<ipython-input-15-14fe5f6ef3c1>:2: SettingWithCopyWarning: \n",
            "A value is trying to be set on a copy of a slice from a DataFrame.\n",
            "Try using .loc[row_indexer,col_indexer] = value instead\n",
            "\n",
            "See the caveats in the documentation: https://pandas.pydata.org/pandas-docs/stable/user_guide/indexing.html#returning-a-view-versus-a-copy\n",
            "  df_ml['race'] = df_ml['race'].replace('hispanic ', 'hispanic')\n"
          ]
        }
      ]
    },
    {
      "cell_type": "code",
      "source": [
        "# YEA/NAY VOTE DISTRIBUTIONS BY RACE\n",
        "\n",
        "hispanic = df_ml[df_ml['race'] == 'hispanic']\n",
        "hispanic_count = ((pd.DataFrame(hispanic['cast_code'].value_counts())).reset_index()).rename(columns={'index': 'cast', 'cast_code': 'count'})\n",
        "hispanic_count['total'] = hispanic_count['count'].sum()\n",
        "hispanic_count['distribution'] = hispanic_count['count'] / hispanic_count['total']\n",
        "hispanic_count = hispanic_count[['cast', 'distribution']]\n",
        "\n",
        "white = df_ml[df_ml['race'] == 'white']\n",
        "white_count = ((pd.DataFrame(white['cast_code'].value_counts())).reset_index()).rename(columns={'index': 'cast', 'cast_code': 'count'})\n",
        "white_count['total'] = white_count['count'].sum()\n",
        "white_count['distribution'] = white_count['count'] / white_count['total']\n",
        "white_count = white_count[['cast', 'distribution']]\n",
        "\n",
        "asian = df_ml[df_ml['race'] == 'asian']\n",
        "asian_count = ((pd.DataFrame(asian['cast_code'].value_counts())).reset_index()).rename(columns={'index': 'cast', 'cast_code': 'count'})\n",
        "asian_count['total'] = asian_count['count'].sum()\n",
        "asian_count['distribution'] = asian_count['count'] / asian_count['total']\n",
        "asian_count = asian_count[['cast', 'distribution']]\n",
        "\n",
        "black = df_ml[df_ml['race'] == 'black']\n",
        "black_count = ((pd.DataFrame(black['cast_code'].value_counts())).reset_index()).rename(columns={'index': 'cast', 'cast_code': 'count'})\n",
        "black_count['total'] = black_count['count'].sum()\n",
        "black_count['distribution'] = black_count['count'] / black_count['total']\n",
        "black_count = black_count[['cast', 'distribution']]\n",
        "\n",
        "his_wh_yn_count = hispanic_count.merge(white_count, on=['cast'], how=\"inner\", suffixes=('_hispanic', '_white'))\n",
        "as_bl_yn_count = asian_count.merge(black_count, on=['cast'], how=\"inner\", suffixes=('_asian', '_black'))\n",
        "\n",
        "comb_race_yn_count = his_wh_yn_count.merge(as_bl_yn_count, on=['cast'], how=\"inner\", suffixes=('_asian', '_black'))\n",
        "comb_race_yn_count.plot.bar(x='cast', title='YEA/NAY VOTE DISTRIBUTIONS BY RACE', color=['brown', 'orange', 'darkblue', 'green'])\n"
      ],
      "metadata": {
        "colab": {
          "base_uri": "https://localhost:8080/",
          "height": 322
        },
        "id": "qMOMNv_d37yX",
        "outputId": "05a419f0-6ddb-49ab-c191-3eef734926ab"
      },
      "execution_count": 16,
      "outputs": [
        {
          "output_type": "execute_result",
          "data": {
            "text/plain": [
              "<Axes: title={'center': 'YEA/NAY VOTE DISTRIBUTIONS BY RACE'}, xlabel='cast'>"
            ]
          },
          "metadata": {},
          "execution_count": 16
        },
        {
          "output_type": "display_data",
          "data": {
            "text/plain": [
              "<Figure size 432x288 with 1 Axes>"
            ],
            "image/png": "[encoded data removed]"
          },
          "metadata": {
            "needs_background": "light"
          }
        }
      ]
    },
    {
      "cell_type": "code",
      "source": [
        "# YEA/NAY VOTE DISTRIBUTIONS BY GENDER\n",
        "\n",
        "female = df_ml[df_ml['gender'] == 0]\n",
        "female_count = ((pd.DataFrame(female['cast_code'].value_counts())).reset_index()).rename(columns={'index': 'cast', 'cast_code': 'count'})\n",
        "female_count['total'] = female_count['count'].sum()\n",
        "female_count['distribution'] = female_count['count'] / female_count['total']\n",
        "female_count = female_count[['cast', 'distribution']]\n",
        "\n",
        "male = df_ml[df_ml['gender'] == 1]\n",
        "male_count = ((pd.DataFrame(male['cast_code'].value_counts())).reset_index()).rename(columns={'index': 'cast', 'cast_code': 'count'})\n",
        "male_count['total'] = male_count['count'].sum()\n",
        "male_count['distribution'] = male_count['count'] / male_count['total']\n",
        "male_count = male_count[['cast', 'distribution']]\n",
        "\n",
        "gender_yn_count = male_count.merge(female_count, on=['cast'], how=\"inner\", suffixes=('_male', '_female'))\n",
        "gender_yn_count.plot.bar(x='cast', title='YEA/NAY VOTE DISTRIBUTIONS BY GENDER', color=['blue', 'lightpink'])"
      ],
      "metadata": {
        "colab": {
          "base_uri": "https://localhost:8080/",
          "height": 322
        },
        "id": "FZxAYrwx_oLF",
        "outputId": "337cd0e2-0175-4635-c13c-ac2471bb417f"
      },
      "execution_count": 17,
      "outputs": [
        {
          "output_type": "execute_result",
          "data": {
            "text/plain": [
              "<Axes: title={'center': 'YEA/NAY VOTE DISTRIBUTIONS BY GENDER'}, xlabel='cast'>"
            ]
          },
          "metadata": {},
          "execution_count": 17
        },
        {
          "output_type": "display_data",
          "data": {
            "text/plain": [
              "<Figure size 432x288 with 1 Axes>"
            ],
            "image/png": "[encoded data removed]"
          },
          "metadata": {
            "needs_background": "light"
          }
        }
      ]
    },
    {
      "cell_type": "code",
      "source": [
        "# YEA/NAY VOTE DISTRIBUTIONS BY IMMIGRANT\n",
        "\n",
        "usBorn = df_ml[df_ml['immigrant'] == 0]\n",
        "usBorn_count = ((pd.DataFrame(usBorn['cast_code'].value_counts())).reset_index()).rename(columns={'index': 'cast', 'cast_code': 'count'})\n",
        "usBorn_count['total'] = usBorn_count['count'].sum()\n",
        "usBorn_count['distribution'] = usBorn_count['count'] / usBorn_count['total']\n",
        "usBorn_count = usBorn_count[['cast', 'distribution']]\n",
        "\n",
        "immigrant = df_ml[df_ml['immigrant'] == 1]\n",
        "immigrant_count = ((pd.DataFrame(immigrant['cast_code'].value_counts())).reset_index()).rename(columns={'index': 'cast', 'cast_code': 'count'})\n",
        "immigrant_count['total'] = immigrant_count['count'].sum()\n",
        "immigrant_count['distribution'] = immigrant_count['count'] / immigrant_count['total']\n",
        "immigrant_count = immigrant_count[['cast', 'distribution']]\n",
        "\n",
        "immigrant_yn_count = usBorn_count.merge(immigrant_count, on=['cast'], how=\"inner\", suffixes=('_U.S. Born', '_immigrant'))\n",
        "immigrant_yn_count.plot.bar(x='cast', title='YEA/NAY VOTE DISTRIBUTIONS BY IMMIGRANT', color=['blue', 'orange'])"
      ],
      "metadata": {
        "colab": {
          "base_uri": "https://localhost:8080/",
          "height": 322
        },
        "id": "I0ajRvuhBpXt",
        "outputId": "fd2d4cbe-52cb-44f1-acdc-2425d4236e2e"
      },
      "execution_count": 18,
      "outputs": [
        {
          "output_type": "execute_result",
          "data": {
            "text/plain": [
              "<Axes: title={'center': 'YEA/NAY VOTE DISTRIBUTIONS BY IMMIGRANT'}, xlabel='cast'>"
            ]
          },
          "metadata": {},
          "execution_count": 18
        },
        {
          "output_type": "display_data",
          "data": {
            "text/plain": [
              "<Figure size 432x288 with 1 Axes>"
            ],
            "image/png": "[encoded data removed]"
          },
          "metadata": {
            "needs_background": "light"
          }
        }
      ]
    },
    {
      "cell_type": "code",
      "source": [
        "# YEA/NAY VOTE DISTRIBUTIONS BY AGE GROUP-- separated into working age (<65) and elderly (>=65)\n",
        "\n",
        "print(df_ml['age elected'].value_counts().sort_index())\n",
        "\n",
        "id_name_age = df_ml[['icpsr', 'bioname', 'age elected']]\n",
        "id_name_age_noDupes = id_name_age.drop_duplicates()\n",
        "id_name_age_noDupes\n",
        "\n",
        "elderly = df_ml[df_ml['age elected'] >= 65]\n",
        "elderly_count = ((pd.DataFrame(elderly['cast_code'].value_counts())).reset_index()).rename(columns={'index': 'cast', 'cast_code': 'count'})\n",
        "elderly_count['total'] = elderly_count['count'].sum()\n",
        "elderly_count['distribution'] = elderly_count['count'] / elderly_count['total']\n",
        "elderly_count = elderly_count[['cast', 'distribution']]\n",
        "\n",
        "working_age = df_ml[df_ml['age elected'] < 65]\n",
        "working_age_count = ((pd.DataFrame(working_age['cast_code'].value_counts())).reset_index()).rename(columns={'index': 'cast', 'cast_code': 'count'})\n",
        "working_age_count['total'] = working_age_count['count'].sum()\n",
        "working_age_count['distribution'] = working_age_count['count'] / working_age_count['total']\n",
        "working_age_count = working_age_count[['cast', 'distribution']]\n",
        "\n",
        "age_yn_count = working_age_count.merge(elderly_count, on=['cast'], how=\"inner\", suffixes=(' for <65 y.o.', ' for >= 65 y.o.'))\n",
        "age_yn_count.plot.bar(x='cast', title='YEA/NAY VOTE DISTRIBUTIONS BY AGE GROUP', color=['purple', 'gold'])"
      ],
      "metadata": {
        "colab": {
          "base_uri": "https://localhost:8080/",
          "height": 590
        },
        "id": "7NReDKemqeOD",
        "outputId": "15ce5eb3-b5fc-48a7-c0c4-8d496ba4a113"
      },
      "execution_count": 19,
      "outputs": [
        {
          "output_type": "stream",
          "name": "stdout",
          "text": [
            "44    1515\n",
            "46     758\n",
            "51    1514\n",
            "55    1484\n",
            "57     757\n",
            "58     758\n",
            "60     761\n",
            "65     755\n",
            "66     759\n",
            "67    1480\n",
            "68     755\n",
            "79    1518\n",
            "82     744\n",
            "84     761\n",
            "Name: age elected, dtype: int64\n"
          ]
        },
        {
          "output_type": "execute_result",
          "data": {
            "text/plain": [
              "<Axes: title={'center': 'YEA/NAY VOTE DISTRIBUTIONS BY AGE GROUP'}, xlabel='cast'>"
            ]
          },
          "metadata": {},
          "execution_count": 19
        },
        {
          "output_type": "display_data",
          "data": {
            "text/plain": [
              "<Figure size 432x288 with 1 Axes>"
            ],
            "image/png": "[encoded data removed]"
          },
          "metadata": {
            "needs_background": "light"
          }
        }
      ]
    },
    {
      "cell_type": "code",
      "source": [
        "# YEA/NAY VOTE DISTRIBUTIONS BY IMMIGRANT AGE GROUP-- separated into working age (<65) and elderly (>=65)\n",
        "\n",
        "conservative = df_ml[df_ml['economic lib-con'] > 0]\n",
        "conservative_count = ((pd.DataFrame(conservative['cast_code'].value_counts())).reset_index()).rename(columns={'index': 'cast', 'cast_code': 'count'})\n",
        "conservative_count['total'] = conservative_count['count'].sum()\n",
        "conservative_count['distribution'] = conservative_count['count'] / conservative_count['total']\n",
        "conservative_count = conservative_count[['cast', 'distribution']]\n",
        "\n",
        "liberal = df_ml[df_ml['economic lib-con'] < 0]\n",
        "liberal_count = ((pd.DataFrame(liberal['cast_code'].value_counts())).reset_index()).rename(columns={'index': 'cast', 'cast_code': 'count'})\n",
        "liberal_count['total'] = liberal_count['count'].sum()\n",
        "liberal_count['distribution'] = liberal_count['count'] / liberal_count['total']\n",
        "liberal_count = liberal_count[['cast', 'distribution']]\n",
        "\n",
        "conlib_yn_count = liberal_count.merge(conservative_count, on=['cast'], how=\"inner\", suffixes=(' for economic-liberals', ' for economic-conservatives'))\n",
        "conlib_yn_count.plot.bar(x='cast', title='YEA/NAY VOTE DISTRIBUTIONS BY ECONOMIC LIB/CON SCORE', color=['darkblue', 'maroon'])"
      ],
      "metadata": {
        "colab": {
          "base_uri": "https://localhost:8080/",
          "height": 322
        },
        "id": "Et-ib4IR1aPB",
        "outputId": "1bfcc742-80a3-4be0-9756-4a4c2d417344"
      },
      "execution_count": 20,
      "outputs": [
        {
          "output_type": "execute_result",
          "data": {
            "text/plain": [
              "<Axes: title={'center': 'YEA/NAY VOTE DISTRIBUTIONS BY ECONOMIC LIB/CON SCORE'}, xlabel='cast'>"
            ]
          },
          "metadata": {},
          "execution_count": 20
        },
        {
          "output_type": "display_data",
          "data": {
            "text/plain": [
              "<Figure size 432x288 with 1 Axes>"
            ],
            "image/png": "[encoded data removed]"
          },
          "metadata": {
            "needs_background": "light"
          }
        }
      ]
    },
    {
      "cell_type": "markdown",
      "source": [
        "This looks very similar-- if not the same-- as the distribution plot by party."
      ],
      "metadata": {
        "id": "4veWN3te3LGx"
      }
    },
    {
      "cell_type": "markdown",
      "source": [
        "MACHINE LEARNING"
      ],
      "metadata": {
        "id": "RGiIpZnwD0m3"
      }
    },
    {
      "cell_type": "code",
      "source": [
        "# COMPARISON OF SEVERAL DIFFERENT MODELS-- X_train arguments differ\n",
        "\n",
        "from sklearn.pipeline import make_pipeline\n",
        "from sklearn.preprocessing import OneHotEncoder, StandardScaler\n",
        "from sklearn.neighbors import KNeighborsRegressor, KNeighborsClassifier\n",
        "from sklearn.model_selection import cross_val_score\n",
        "from sklearn.feature_extraction.text import TfidfVectorizer\n",
        "from sklearn.compose import make_column_transformer\n",
        "\n",
        "preproc = [(TfidfVectorizer(max_features=100), 'vote_desc'),\n",
        "           (TfidfVectorizer(max_features=100), 'vote_question'),\n",
        "           (StandardScaler(), ['party_code']),\n",
        "           (StandardScaler(), ['economic lib-con']),\n",
        "           (StandardScaler(), ['age elected']),\n",
        "           (StandardScaler(), ['gender']),\n",
        "           (StandardScaler(), ['immigrant']),\n",
        "           (OneHotEncoder(), ['race'])\n",
        "           ]\n",
        "\n",
        "features = ['vote_desc', 'vote_question', 'party_code', 'economic lib-con', 'age elected', 'gender', 'immigrant', 'race']\n",
        "\n",
        "X_train = df_ml[['vote_desc', 'vote_question', 'party_code', 'economic lib-con', 'age elected', 'gender', 'immigrant', 'race']]\n",
        "y_train = df_ml['cast_code']\n",
        "scores=[]\n",
        "\n",
        "for feature in range(1, len(preproc) + 1):\n",
        "  pipeline = make_pipeline(make_column_transformer(\n",
        "      *preproc[: feature],\n",
        "      remainder='drop'),\n",
        "      KNeighborsClassifier(n_neighbors = 5,\n",
        "                           metric='euclidean'))\n",
        "\n",
        "  scores.append(cross_val_score(pipeline,\n",
        "                            X_train,\n",
        "                            y_train,\n",
        "                            scoring='accuracy',\n",
        "                            cv=10).mean())"
      ],
      "metadata": {
        "id": "8_gg--ANUVw4"
      },
      "execution_count": 21,
      "outputs": []
    },
    {
      "cell_type": "code",
      "source": [
        "# VISUALIZATION FOR WHAT X ARGS CREATE MOST ACCURATE MODEL\n",
        "\n",
        "print(scores)\n",
        "x_args = pd.DataFrame(scores)\n",
        "acc_plot = x_args.plot(title=\"ACCURACY FOR EACH MODEL ITERATED\", legend=False, color='blue')\n",
        "print(x_args.max())\n",
        "acc_plot.axvline(x=2, color='red')"
      ],
      "metadata": {
        "colab": {
          "base_uri": "https://localhost:8080/",
          "height": 372
        },
        "id": "p3yLIrwgNIEi",
        "outputId": "71ed362a-99b6-4e75-fe5b-5d3581fa4f99"
      },
      "execution_count": 22,
      "outputs": [
        {
          "output_type": "stream",
          "name": "stdout",
          "text": [
            "[0.8433558202452479, 0.8935050985949584, 0.981284428203897, 0.9790498889318326, 0.9690637578128356, 0.9509767752362883, 0.8671081089522114, 0.7951051438811005]\n",
            "0    0.981284\n",
            "dtype: float64\n"
          ]
        },
        {
          "output_type": "execute_result",
          "data": {
            "text/plain": [
              "<matplotlib.lines.Line2D at 0x7ff32169f820>"
            ]
          },
          "metadata": {},
          "execution_count": 22
        },
        {
          "output_type": "display_data",
          "data": {
            "text/plain": [
              "<Figure size 432x288 with 1 Axes>"
            ],
            "image/png": "[encoded data removed]"
          },
          "metadata": {
            "needs_background": "light"
          }
        }
      ]
    },
    {
      "cell_type": "code",
      "source": [
        "# PRINTING ARGUMENTS FOR OPTIMAL ACCURACY\n",
        "\n",
        "import numpy as np\n",
        "\n",
        "model_indices = np.argmax(np.asarray((scores)), axis=0)+1\n",
        "features[:model_indices]"
      ],
      "metadata": {
        "colab": {
          "base_uri": "https://localhost:8080/"
        },
        "id": "rVRsO4iq1l66",
        "outputId": "44d8c6d3-b163-4294-b8cc-d9b91033ee16"
      },
      "execution_count": 23,
      "outputs": [
        {
          "output_type": "execute_result",
          "data": {
            "text/plain": [
              "['vote_desc', 'vote_question', 'party_code']"
            ]
          },
          "metadata": {},
          "execution_count": 23
        }
      ]
    },
    {
      "cell_type": "markdown",
      "source": [
        "Best x_train arguments are 'vote_desc', 'vote_question', and 'party_code'."
      ],
      "metadata": {
        "id": "mXPX6nfd2g0U"
      }
    },
    {
      "cell_type": "code",
      "source": [
        "# OPTIMAL X INPUT MACHINE LEARNING MODEL\n",
        "\n",
        "X_train = df_ml[['vote_desc', 'vote_question', 'party_code']]\n",
        "y_train = df_ml['cast_code']\n",
        "\n",
        "final_model = make_pipeline(make_column_transformer((TfidfVectorizer(max_features=100), 'vote_desc'),\n",
        "                                                    (TfidfVectorizer(max_features=100), 'vote_question'),\n",
        "                                                    (StandardScaler(), ['party_code'])),\n",
        "                                                    KNeighborsClassifier(n_neighbors = 3,\n",
        "                                                                         metric='manhattan'))\n",
        "\n",
        "cross_val_score(final_model, X_train, y_train,\n",
        "                scoring=\"accuracy\", cv=10).mean()"
      ],
      "metadata": {
        "colab": {
          "base_uri": "https://localhost:8080/"
        },
        "id": "KijNIJcQuUhi",
        "outputId": "e74b5f90-c63e-4814-aa04-be8ed4a3a93a"
      },
      "execution_count": 24,
      "outputs": [
        {
          "output_type": "execute_result",
          "data": {
            "text/plain": [
              "0.983588799878196"
            ]
          },
          "metadata": {},
          "execution_count": 24
        }
      ]
    },
    {
      "cell_type": "code",
      "source": [
        "# HYPERPARAMETER TESTING K VALUES AND DISTANCE METRIC\n",
        "\n",
        "from sklearn.model_selection import GridSearchCV\n",
        "\n",
        "grid_cv = GridSearchCV(\n",
        "    final_model,\n",
        "    param_grid={\n",
        "        \"kneighborsclassifier__n_neighbors\": range(1, 10),\n",
        "        \"kneighborsclassifier__metric\": [\"euclidean\", \"manhattan\"],\n",
        "        },\n",
        "        scoring=\"accuracy\", cv=10)\n",
        "\n",
        "grid_cv.fit(X_train, y_train)\n",
        "grid_cv.best_params_"
      ],
      "metadata": {
        "colab": {
          "base_uri": "https://localhost:8080/"
        },
        "id": "mI2obSJ17Wsk",
        "outputId": "fc606ff7-c0cc-4b2d-a6f4-9d2c0e26a5bd"
      },
      "execution_count": 25,
      "outputs": [
        {
          "output_type": "execute_result",
          "data": {
            "text/plain": [
              "{'kneighborsclassifier__metric': 'manhattan',\n",
              " 'kneighborsclassifier__n_neighbors': 3}"
            ]
          },
          "metadata": {},
          "execution_count": 25
        }
      ]
    },
    {
      "cell_type": "markdown",
      "source": [
        "2^8 a lot of processing time"
      ],
      "metadata": {
        "id": "oqGGL-VkP3hC"
      }
    },
    {
      "cell_type": "markdown",
      "source": [
        "FINAL MACHINE LEARNING MODEL"
      ],
      "metadata": {
        "id": "wnHsxrHZED5I"
      }
    },
    {
      "cell_type": "code",
      "source": [
        "from sklearn.metrics import accuracy_score\n",
        "\n",
        "# ESTIMATING TEST ERROR\n",
        "\n",
        "vote_train = df_ml[['vote_desc', 'vote_question', 'party_code', 'cast_code']]\n",
        "train = vote_train.sample(frac=.5)\n",
        "val = vote_train.drop(train.index)\n",
        "\n",
        "X_train = train[['vote_desc', 'vote_question', 'party_code']]\n",
        "y_train = train['cast_code']\n",
        "\n",
        "# validation set \n",
        "X_val = val[['vote_desc', 'vote_question', 'party_code']]\n",
        "y_val = val['cast_code']\n",
        "\n",
        "final_model = make_pipeline(make_column_transformer((TfidfVectorizer(max_features=100), 'vote_desc'),\n",
        "                                                    (TfidfVectorizer(max_features=100), 'vote_question'),\n",
        "                                                    (StandardScaler(), ['party_code'])),\n",
        "                                                    KNeighborsClassifier(n_neighbors = 3,\n",
        "                                                                         metric='manhattan'))\n",
        "\n",
        "# test error \n",
        "final_model.fit(X_train, y_train)\n",
        "y_val_ = final_model.predict(X_val)\n",
        "accuracy_score(y_val, y_val_)"
      ],
      "metadata": {
        "colab": {
          "base_uri": "https://localhost:8080/"
        },
        "id": "RyonQf_hlUak",
        "outputId": "ba9ff8ba-9e1f-4179-f262-81aec377a98f"
      },
      "execution_count": 26,
      "outputs": [
        {
          "output_type": "execute_result",
          "data": {
            "text/plain": [
              "0.9692694510406481"
            ]
          },
          "metadata": {},
          "execution_count": 26
        }
      ]
    },
    {
      "cell_type": "code",
      "source": [
        "# CROSS VALIDATION\n",
        "\n",
        "cross_val_score(final_model,\n",
        "                X=df_ml[['vote_desc', 'vote_question', 'party_code']],\n",
        "                y=df_ml['cast_code'],\n",
        "                scoring=\"accuracy\", cv=10).mean()"
      ],
      "metadata": {
        "colab": {
          "base_uri": "https://localhost:8080/"
        },
        "id": "jU32HNiIwd3M",
        "outputId": "a6f00c74-ea9a-4150-ba25-46ada4ca86f8"
      },
      "execution_count": 27,
      "outputs": [
        {
          "output_type": "execute_result",
          "data": {
            "text/plain": [
              "0.983588799878196"
            ]
          },
          "metadata": {},
          "execution_count": 27
        }
      ]
    },
    {
      "cell_type": "code",
      "source": [
        "# CONFUSION MATRIX-- make sure to do this on the test set not train set \n",
        "\n",
        "from sklearn.metrics import confusion_matrix\n",
        "\n",
        "y_train.value_counts()\n",
        "final_model.fit(X_train, y_train)\n",
        "y_train_ = final_model.predict(X_train)\n",
        "\n",
        "confusion_matrix(y_train, y_train_)"
      ],
      "metadata": {
        "colab": {
          "base_uri": "https://localhost:8080/"
        },
        "id": "Izknw9S3FkJ8",
        "outputId": "8a3f41bc-86bd-4064-c755-78d6c48254a1"
      },
      "execution_count": 30,
      "outputs": [
        {
          "output_type": "execute_result",
          "data": {
            "text/plain": [
              "array([[1000,  102],\n",
              "       [  26, 6032]])"
            ]
          },
          "metadata": {},
          "execution_count": 30
        }
      ]
    },
    {
      "cell_type": "markdown",
      "source": [
        "**PRECISION: TP / (TP + FP)** *go back and combine these should not be separated*\n",
        "\n",
        "*YES*: 12111 / (12111 + 118) = 12111 / 12229 = **0.99035081**\n",
        "\n",
        "*NO*: 2028 / (2028 + 62) = 2028 / 2090 = **0.97033493**\n",
        "\n",
        "**RECALL: TP / (TP + FN)**\n",
        "\n",
        "*YES*: 12111 / (12111 + 62) = 12111 / 12173 = **0.99490676**\n",
        "\n",
        "*NO*: 2028 / (2028 + 118) = 2028 / 2146 = **0.94501398**"
      ],
      "metadata": {
        "id": "AUmRe1PNIxhk"
      }
    }
  ]
}